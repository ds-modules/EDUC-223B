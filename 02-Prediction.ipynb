{
 "cells": [
  {
   "cell_type": "code",
   "execution_count": null,
   "metadata": {
    "collapsed": false
   },
   "outputs": [],
   "source": [
    "from scripts.educ_module import regressiont, knn\n",
    "import pandas as pd\n",
    "from sklearn.metrics import mean_squared_error\n",
    "from math import sqrt\n",
    "import statsmodels.formula.api as smf\n",
    "import matplotlib.pyplot as plt\n",
    "from sklearn.neighbors import KNeighborsRegressor\n",
    "import numpy as np\n",
    "from scipy.optimize import minimize\n",
    "import ipywidgets as widgets\n",
    "from IPython.display import display\n",
    "from matplotlib.ticker import FuncFormatter\n",
    "import warnings\n",
    "warnings.filterwarnings('ignore')\n",
    "%matplotlib inline"
   ]
  },
  {
   "cell_type": "markdown",
   "metadata": {},
   "source": [
    "# Making Predictions\n",
    "#### Michelle Wilkerson\n",
    "\n",
    "The goal of this lesson is to explore different models and methods for making predictions using data related to gray wolves and Yellowstone National Park. Each model comes with its own pros and cons that need to be considered, and we hope that by the end of this exploration, you will be able to think about possible benefits that come with different methodologies and be more critical of prediction techniques that you encounter.\n",
    "\n",
    "## Background\n",
    "\n",
    "Yellowstone is a national park located in Wyoming, Montana, and Idaho, covering almost 3,500 square miles. It became the first National Park in the United States in 1872 under President Ulysses S. Grant. It is thought to not only be the first National Park in the United states, but also the first national park in the world.\n",
    "\n",
    "<img src=http://d1njyp8tsu122i.cloudfront.net/wp-content/uploads/map-lodging-by-state_680x392.jpg width=600>\n",
    "\n",
    "Yellowstone is famous primarily for two things:\n",
    "\n",
    "- First, for its geysers and hot springs. It contains about half of the world’s geysers, with over 450 active geysers. For comparison, the next second largest collection of active geysers has about 200. It is home to the world's tallest active geyser, Steamboat Geyser, and to the famous <a href=\"https://youtu.be/h9uRaEoEV-U?t=1m36s\">Old Faithful Geyser</a>. \n",
    "\n",
    "- The park is also famous for its wildlife. According to the National Park Service, Yellowstone is \"home to the largest concentration of mammals in the lower 48 states,\" with 67 species of mammals, and over 325 different species of birds, fish, amphibians, and reptiles.\n",
    "\n",
    "Despite being a National Park, the animals of Yellowstone were not originally offered special protections.\n",
    "The <a href=https://www.nps.gov/yell/learn/management/yellowstoneprotectionact1872.htm>Yellowstone National Park Protection Act</a> said that the Secretary of the Interior would \"provide against the wanton destruction of the fish and game found within [Yellowstone],\" but made no specific provisions, and left wiggle room for interpretation. Of semi-recent attention has been the status of gray wolves in the park -- which are neither game nor fish, so under the Protection Act, were left on their own. \n",
    "\n",
    "<img src=http://d1njyp8tsu122i.cloudfront.net/wp-content/uploads/Yellowstone-Wildlife-Wolf-11.jpg width=400>\n",
    "\n",
    "Historically, gray wolves roamed about <a href=\"https://www.nwf.org/Wildlife/Wildlife-Library/Mammals/Gray-Wolf.aspx\">two-thirds</a> of the United States, with numbers estimated to be over a quarter-million, but by the 1960s, the only wild gray wolves in the lower 48 states were restricted to <a href=\"http://www.missionwolf.org/page/wild-wolf-history/\">Michigan and Minnesota</a>.\n",
    "\n",
    "With America's westward expansion came the tolling of the bells for wolves. Not only did they have to compete with settlers for space, but they were also hunted. Farmers and ranchers feared for their livestock, and successfully advocated for programs to reduce gray wolf populations. Beginning in the 19th century and continuing into the 20th, there were <a href=\"https://www.fws.gov/midwest/wolf/aboutwolves/biologue.htm\">government programs that offered bounties for each wolf killed</a>. In 1880, the superintendent of Yellowstone had stated that <a href=\"http://www.pbs.org/wnet/nature/the-wolf-that-changed-america-wolf-wars-americas-campaign-to-eradicate-the-wolf/4312/\">\"the value of their [wolves and coyotes] hides and their easy slaughter with strychnine-poisoned carcasses have nearly led to their extermination.”</a> By the end of the 1920s, gray wolves had disappeared from most of the United States. \n",
    "\n",
    "<img src=http://www.hcn.org/issues/46.21/have-returning-wolves-really-saved-yellowstone/yellowstonewolves1-jpg/@@images/7fdf9c1c-9425-45dd-99a7-fe6f43ffa3a1.jpeg width=400>\n",
    "\n",
    "In 1973, Greater Yellowstone was named as one of three recovery areas for the endangered gray wolf. From 1995 to 1997, 41 wild wolves from Montana and Canada were released in Yellowstone National Park, where their populations have been climbing since. \n",
    "\n",
    "### Wolves in Yellowstone\n",
    "Wolves in Yellowstone primarily feed on hooved animals, the most common being elk, and deer and smaller animals during the summer. When the wolves were reintroduced to the park, of course we would expect some sort of effect on the populations of those animals of prey. In this notebook, we are going to investigate what those effects were on the elk populations, and also on the wolf populations.\n",
    "\n",
    "---\n",
    "\n",
    "## Navigation\n",
    "\n",
    "Before we begin analyzing our data, we need to run some cells of code. You don't need to know what these cells are doing in any detail, for now. To run a cell of code, click on the cell, then type `SHIFT-ENTER` or simply click the button on the toolbar at the top of the page that looks like ▶| . Run each cell of code as you work down the notebook, in the order they are placed. Some cells rely on others above it, so if you don't run them in order, you may encounter some puzzling errors.\n",
    "\n",
    "---\n",
    "\n",
    "## Reading in data\n",
    "\n",
    "Our first data set contains the wolf and elk populations from 1994 to 2012, though there are some years missing in the late 90s. Run the cell below to view a print-out of the table we will be working with."
   ]
  },
  {
   "cell_type": "code",
   "execution_count": null,
   "metadata": {
    "collapsed": false
   },
   "outputs": [],
   "source": [
    "# reading in our data from an existing file\n",
    "data = pd.read_csv('data/wolf_and_elk_in_yellowstone.csv', thousands=',').drop('Notes', axis=1).dropna().reset_index(drop=True)\n",
    "data"
   ]
  },
  {
   "cell_type": "markdown",
   "metadata": {},
   "source": [
    "To get a sense of the data, it is helpful to visualize it with graphs. The cell below constructs two graphs from the data table above and plots the change in each animal's population numbers over time."
   ]
  },
  {
   "cell_type": "code",
   "execution_count": null,
   "metadata": {
    "collapsed": false
   },
   "outputs": [],
   "source": [
    "f, axs = plt.subplots(1,2,figsize=(15, 6))\n",
    "\n",
    "axs[0].plot(data['Year'], data['Elk Population'])\n",
    "axs[0].set_title('Elk')\n",
    "\n",
    "axs[1].plot(data['Year'], data['Wolf Population'])\n",
    "axs[1].set_title('Wolves')"
   ]
  },
  {
   "cell_type": "markdown",
   "metadata": {},
   "source": [
    "Plotting the populations separately makes it difficult to see the the absolute changes in population relative to one another, so next, we will plot them on the same y-axis."
   ]
  },
  {
   "cell_type": "code",
   "execution_count": null,
   "metadata": {
    "collapsed": false
   },
   "outputs": [],
   "source": [
    "data.plot('Year', figsize=(9,6))"
   ]
  },
  {
   "cell_type": "markdown",
   "metadata": {},
   "source": [
    "Since the scale of the absolute numbers for both animals are so different, another helpful view may be to look at the percent change in population from year to year. First we have to write a function that will set up our visualization:"
   ]
  },
  {
   "cell_type": "code",
   "execution_count": null,
   "metadata": {
    "collapsed": true
   },
   "outputs": [],
   "source": [
    "def percent_changing(periods=1):\n",
    "    percent_changed = data.pct_change(periods)\n",
    "    \n",
    "    fig = plt.figure()\n",
    "    ax = fig.add_subplot(1,1,1)\n",
    "    \n",
    "    plt.plot(data['Year'], percent_changed['Elk Population'], c='b')\n",
    "    plt.plot(data['Year'], percent_changed['Wolf Population'], c='g')\n",
    "    plt.axhline(y=0, c=\"r\")\n",
    "    plt.legend()\n",
    "    ax.yaxis.set_major_formatter(FuncFormatter('{0:.0%}'.format))\n",
    "    plt.show()"
   ]
  },
  {
   "cell_type": "markdown",
   "metadata": {},
   "source": [
    "Play with the slider to increase the length of the period (the number of years) that the percent change is measured over."
   ]
  },
  {
   "cell_type": "code",
   "execution_count": null,
   "metadata": {
    "collapsed": false
   },
   "outputs": [],
   "source": [
    "slider = widgets.IntSlider(min=1,max=6,step=1,value=1)\n",
    "display(widgets.interactive(percent_changing, periods=slider))"
   ]
  },
  {
   "cell_type": "markdown",
   "metadata": {},
   "source": [
    "<font color=\"blue\">Question:</font> Based on the data and the graphs above, what do you think is going on with the wolf and elk populations? How do you think they will change going forward? Are they close to equilibrium?\n",
    "\n",
    "*Write your response in the cell below, then type*  `SHIFT-ENTER`"
   ]
  },
  {
   "cell_type": "raw",
   "metadata": {
    "collapsed": true
   },
   "source": []
  },
  {
   "cell_type": "markdown",
   "metadata": {},
   "source": [
    "<font color=\"blue\">Question: </font> How do you think the changing populations of wolves and elk will impact Yellowstone park and its other animal populations? Specifically, how do you think these trends will affect the populations of wolves' other prey? What about other predatory species that also hunt those prey? How about flora populations?\n",
    "\n",
    "*Write your response in the cell below, then type*  `SHIFT-ENTER`"
   ]
  },
  {
   "cell_type": "raw",
   "metadata": {},
   "source": []
  },
  {
   "cell_type": "markdown",
   "metadata": {},
   "source": [
    "## Prediction\n",
    "\n",
    "Prediction is a powerful tool that we can use to make guesses about how data will look in the future based on previous trends. We are going to start discussing some basic prediction techniques, then move on to some more complex techniques to predict how the populations of the animals we've been talking about might look in the future.\n",
    "\n",
    "#### Single Point Model\n",
    "\n",
    "First, the Single Point model. This method of prediction takes one data point from our existing data and uses it to predict the populations for the next year. \n",
    "\n",
    "<font color='blue'>Question:</font> What issues might arise from using this method?"
   ]
  },
  {
   "cell_type": "raw",
   "metadata": {},
   "source": []
  },
  {
   "cell_type": "markdown",
   "metadata": {},
   "source": [
    "### Linear Regression Model for Predicting Population\n",
    "\n",
    "Linear regression can be done in two ways: First, we can create a regression line using all of the data points that we currently have to make a prediction about the population in future years. We could also use $N$-most recent points from our data set to make a prediction about future years' populations, rather than using all of our data.\n",
    "\n",
    "<font color='blue'>Question:</font> Think about the differences between these two models. How are they similar? How are the findings/conclusions similar or different? What are the pros and cons of each?"
   ]
  },
  {
   "cell_type": "raw",
   "metadata": {},
   "source": []
  },
  {
   "cell_type": "markdown",
   "metadata": {},
   "source": [
    "In the cell below, we have some code that implements a linear regression model on our data. We will use this to investigate how changing the number of data points that we consider when doing regression influences the prediction of the next year's population. \n",
    "\n",
    "**Wolves:**\n",
    "\n",
    "Run the cell below and you'll see a visualization with a slider bar that allows you to select the number of data points to consider for the linear regression model. Try to take note of how the prediction for the population number is affected when you consider more vs. fewer data points in the regression model.  "
   ]
  },
  {
   "cell_type": "code",
   "execution_count": null,
   "metadata": {
    "collapsed": false,
    "scrolled": false
   },
   "outputs": [],
   "source": [
    "p_slider = widgets.IntSlider(min=1, max=16, step=1, value=1)\n",
    "display(widgets.interactive(regressiont, included_points=p_slider, dependent=\"Wolf Population\"))"
   ]
  },
  {
   "cell_type": "markdown",
   "metadata": {},
   "source": [
    "We can estimate the slop of this line and the intercept, estimating the regression model:\n",
    "\n",
    "$WOLFPOP_i= \\alpha + \\beta YEAR + \\epsilon_i$\n",
    "\n",
    "Let's look at the summary of the model:"
   ]
  },
  {
   "cell_type": "code",
   "execution_count": null,
   "metadata": {
    "collapsed": false
   },
   "outputs": [],
   "source": [
    "mod = smf.ols(formula='Wolf_Pop ~ Year', data=data.rename(columns={\"Wolf Population\": \"Wolf_Pop\"}))\n",
    "res = mod.fit()\n",
    "print(res.summary())"
   ]
  },
  {
   "cell_type": "markdown",
   "metadata": {},
   "source": [
    "It looks like our model is quite good, and the Wolf population does indeed grow at a near linear pace. But knowing what we do about ecology, we would think this would level off soon as the Elk population also decreases.\n",
    "\n",
    "Can we guess the wolf population in 10 years (from 2013) with this model?"
   ]
  },
  {
   "cell_type": "code",
   "execution_count": null,
   "metadata": {
    "collapsed": false
   },
   "outputs": [],
   "source": [
    "res.predict({\"Year\": [2013+10]})"
   ]
  },
  {
   "cell_type": "markdown",
   "metadata": {},
   "source": [
    "That's quite high! Just how accurate is our model? The box description above tells us in many different ways. Perhaps an easier conceptual evaluation is the **RMSE**, or Root Mean Squared Error. This metric is exactly what it means, it takes the square root of the average squared error on each observation:\n",
    "\n",
    "$\\operatorname{RMSE}=\\sqrt{\\frac{\\sum_{t=1}^n (\\hat y_t - y_t)^2}{n}}$"
   ]
  },
  {
   "cell_type": "code",
   "execution_count": null,
   "metadata": {
    "collapsed": false
   },
   "outputs": [],
   "source": [
    "print(\"RMSE: \" + str(sqrt(mean_squared_error(data['Wolf Population'], res.predict({\"Year\": data['Year']})))))"
   ]
  },
  {
   "cell_type": "markdown",
   "metadata": {},
   "source": [
    "Not bad! But again, we can't expect a population to grow linearly."
   ]
  },
  {
   "cell_type": "markdown",
   "metadata": {},
   "source": [
    "---\n",
    "\n",
    "**Elk**\n",
    "\n",
    "We can do the same for Elk:"
   ]
  },
  {
   "cell_type": "code",
   "execution_count": null,
   "metadata": {
    "collapsed": false
   },
   "outputs": [],
   "source": [
    "p_slider = widgets.IntSlider(min=1, max=16, step=1, value=1)\n",
    "display(widgets.interactive(regressiont,included_points=p_slider, dependent=\"Elk Population\"))"
   ]
  },
  {
   "cell_type": "markdown",
   "metadata": {},
   "source": [
    "Likewise:\n",
    "\n",
    "$ELKPOP_i= \\alpha + \\beta YEAR + \\epsilon_i$"
   ]
  },
  {
   "cell_type": "code",
   "execution_count": null,
   "metadata": {
    "collapsed": false
   },
   "outputs": [],
   "source": [
    "mod = smf.ols(formula='Elk_Pop ~ Year', data=data.rename(columns={\"Elk Population\": \"Elk_Pop\"}))\n",
    "res = mod.fit()\n",
    "print(res.summary())"
   ]
  },
  {
   "cell_type": "markdown",
   "metadata": {},
   "source": [
    "In 10 years:"
   ]
  },
  {
   "cell_type": "code",
   "execution_count": null,
   "metadata": {
    "collapsed": false
   },
   "outputs": [],
   "source": [
    "res.predict({\"Year\": [2013+10]})"
   ]
  },
  {
   "cell_type": "markdown",
   "metadata": {},
   "source": [
    "***Oh no!*** That's not possible. How's our model for Elk?"
   ]
  },
  {
   "cell_type": "markdown",
   "metadata": {},
   "source": [
    "**RMSE**"
   ]
  },
  {
   "cell_type": "code",
   "execution_count": null,
   "metadata": {
    "collapsed": false
   },
   "outputs": [],
   "source": [
    "print(\"RMSE: \" + str(sqrt(mean_squared_error(data['Elk Population'], res.predict({\"Year\": data['Year']})))))"
   ]
  },
  {
   "cell_type": "markdown",
   "metadata": {},
   "source": [
    "Much worse.\n",
    "\n",
    "---\n",
    "\n",
    "So when do the linear models think the Elk will die out?"
   ]
  },
  {
   "cell_type": "code",
   "execution_count": null,
   "metadata": {
    "collapsed": false
   },
   "outputs": [],
   "source": [
    "# elk\n",
    "mod = smf.ols(formula='Elk_Pop ~ Year', data=data.rename(columns={\"Elk Population\": \"Elk_Pop\"}))\n",
    "model_elk = mod.fit()\n",
    "\n",
    "# wolves\n",
    "mod = smf.ols(formula='Wolf_Pop ~ Year', data=data.rename(columns={\"Wolf Population\": \"Wolf_Pop\"}))\n",
    "model_wolf = mod.fit()\n",
    "\n",
    "time_period = list(data['Year']) + list(range(2014,2030))\n",
    "X = time_period\n",
    "\n",
    "plt.scatter(time_period, model_wolf.predict({\"Year\": X}))\n",
    "plt.plot(time_period, model_wolf.predict({\"Year\": X}))\n",
    "plt.scatter(time_period, model_elk.predict({\"Year\": X}))\n",
    "plt.plot(time_period, model_elk.predict({\"Year\": X}))\n",
    "plt.title(\"Elk vs. Wolf Population, Linear Model\")\n",
    "plt.show()"
   ]
  },
  {
   "cell_type": "markdown",
   "metadata": {},
   "source": [
    "As we've noted above, it looks like the couple years before 2013 the trend is changing (although this curves happens a couple times), but this is what a simple linear regression would predict.\n",
    "\n",
    "<font color='blue'>Question:</font> Given your qualitative understanding of this phenomenon, what can you say about a linear model's prediction?"
   ]
  },
  {
   "cell_type": "markdown",
   "metadata": {},
   "source": []
  },
  {
   "cell_type": "markdown",
   "metadata": {},
   "source": [
    "---\n",
    "\n",
    "### K-Nearest Neighbor Model for Predicting Population\n",
    "\n",
    "We know better than to trust linear models for population modeling. Let's jump to a simple, yet more sophisticated modeling technique. K-Nearest Neighbors (a.k.a. kNN) is an algorithm used for prediction that compares features of a new data point to the $K$ existing data points that are closest to it (\"close\"ness depending on the measures of similarity you decide to use) to make a prediction about that data point.\n",
    "\n",
    "A basic example of kNN regression is using the height of neighboring buildings to predict the height of a new one. In this example, if we're predicting the height of a new building in downtown Manhattan, it doesn't matter what the height of buildings are in Cedar Rapids, Iowa, it's more helpful to concentrate on the height of other skyscrapers in Manhattan. We might want to predict the number of stories that a new Manhattan apartment complex will have based on the apartment complexes that are around it.\n",
    "\n",
    "In a similar line of thinking, just as we were selecting points to include for our linear regression, we might want to have our model only use the most relevant data points when predicting a new one.\n",
    "\n",
    "Let's see what this would look like on dummy data:"
   ]
  },
  {
   "cell_type": "code",
   "execution_count": null,
   "metadata": {
    "collapsed": false
   },
   "outputs": [],
   "source": [
    "from scripts.educ_module import knn\n",
    "\n",
    "slider = widgets.IntSlider(min=1,max=6,step=1,value=1)\n",
    "display(widgets.interactive(knn, neighbors=slider))"
   ]
  },
  {
   "cell_type": "markdown",
   "metadata": {},
   "source": [
    "Now we can use another slider to change the number of closest observations the model will use in predicting the next observation."
   ]
  },
  {
   "cell_type": "code",
   "execution_count": null,
   "metadata": {
    "collapsed": false
   },
   "outputs": [],
   "source": [
    "slider = widgets.IntSlider(min=1,max=6,step=1,value=1)\n",
    "display(widgets.interactive(knn, neighbors=slider))"
   ]
  },
  {
   "cell_type": "markdown",
   "metadata": {},
   "source": [
    "We can use the same concept to model our wolf and elk population differently than the linear regression above:"
   ]
  },
  {
   "cell_type": "code",
   "execution_count": null,
   "metadata": {
    "collapsed": true
   },
   "outputs": [],
   "source": [
    "def knn_yellowstone(neighbors=1, dependent=\"Wolf Population\"):\n",
    "    model = KNeighborsRegressor(neighbors)\n",
    "    X = [[x] for x in data['Year']]\n",
    "    y_values = data[dependent]\n",
    "\n",
    "    model.fit(X, y_values)\n",
    "    model.predict(X)\n",
    "\n",
    "    plt.scatter(data['Year'],model.predict(X))\n",
    "    plt.plot(data['Year'],model.predict(X))\n",
    "    plt.scatter(data['Year'],data[dependent])\n",
    "    plt.plot(data['Year'],data[dependent])\n",
    "    plt.show()\n",
    "\n",
    "    print(\"RMSE: \" + str(sqrt(mean_squared_error(data[dependent], model.predict(X)))))"
   ]
  },
  {
   "cell_type": "code",
   "execution_count": null,
   "metadata": {
    "collapsed": false
   },
   "outputs": [],
   "source": [
    "slider = widgets.IntSlider(min=1,max=16,step=1,value=5)\n",
    "display(widgets.interactive(knn_yellowstone, neighbors=slider, dependent='Wolf Population'))"
   ]
  },
  {
   "cell_type": "markdown",
   "metadata": {},
   "source": [
    "We can also predict 10 years out like above:"
   ]
  },
  {
   "cell_type": "code",
   "execution_count": null,
   "metadata": {
    "collapsed": false
   },
   "outputs": [],
   "source": [
    "def ten_years_out_wolves(neighbors):\n",
    "    model_wolves = KNeighborsRegressor(neighbors)\n",
    "    X = [[x] for x in data['Year']]\n",
    "    y_values = data['Wolf Population']\n",
    "    model_wolves.fit(X, y_values)\n",
    "    print(\"Wolves in 10 years: \" + str(model_wolves.predict([[2013 + 10]])))"
   ]
  },
  {
   "cell_type": "code",
   "execution_count": null,
   "metadata": {
    "collapsed": false
   },
   "outputs": [],
   "source": [
    "slider = widgets.IntSlider(min=1,max=16,step=1,value=5)\n",
    "display(widgets.interactive(ten_years_out_wolves, neighbors=slider, dependent='Wolf Population'))"
   ]
  },
  {
   "cell_type": "markdown",
   "metadata": {},
   "source": [
    "---\n",
    "\n",
    "Let's do the same for Elk:"
   ]
  },
  {
   "cell_type": "code",
   "execution_count": null,
   "metadata": {
    "collapsed": false
   },
   "outputs": [],
   "source": [
    "slider = widgets.IntSlider(min=1,max=16,step=1,value=5)\n",
    "display(widgets.interactive(knn_yellowstone, neighbors=slider, dependent='Elk Population'))"
   ]
  },
  {
   "cell_type": "code",
   "execution_count": null,
   "metadata": {
    "collapsed": true
   },
   "outputs": [],
   "source": [
    "def ten_years_out_elk(neighbors):\n",
    "    model_wolves = KNeighborsRegressor(neighbors)\n",
    "    X = [[x] for x in data['Year']]\n",
    "    y_values = data['Elk Population']\n",
    "    model_wolves.fit(X, y_values)\n",
    "    print(\"Elk in 10 years: \" + str(model_wolves.predict([[2013 + 10]])))"
   ]
  },
  {
   "cell_type": "code",
   "execution_count": null,
   "metadata": {
    "collapsed": false
   },
   "outputs": [],
   "source": [
    "slider = widgets.IntSlider(min=1,max=16,step=1,value=5)\n",
    "display(widgets.interactive(ten_years_out_elk, neighbors=slider, dependent='Elk Population'))"
   ]
  },
  {
   "cell_type": "markdown",
   "metadata": {},
   "source": [
    "---\n",
    "\n",
    "Those numbers look much more reasonable. Let's put this all together to model the future with out new technique, KNN:"
   ]
  },
  {
   "cell_type": "code",
   "execution_count": null,
   "metadata": {
    "collapsed": false
   },
   "outputs": [],
   "source": [
    "def future_population_knn(neighbors):\n",
    "\n",
    "    # wolves\n",
    "    model_wolves = KNeighborsRegressor(neighbors)\n",
    "    X = [[x] for x in data['Year']]\n",
    "    y_values = data['Wolf Population']\n",
    "    model_wolves.fit(X, y_values)\n",
    "    model_wolves.predict([[2013 + 10]])\n",
    "\n",
    "    # elk\n",
    "    model_elk = KNeighborsRegressor(neighbors)\n",
    "    X = [[x] for x in data['Year']]\n",
    "    y_values = data['Elk Population']\n",
    "    model_elk.fit(X, y_values)\n",
    "    \n",
    "    time_period = list(data['Year']) + list(range(2014,2030))\n",
    "    X = [[x] for x in time_period]\n",
    "    \n",
    "    plt.scatter(time_period,model_wolves.predict(X))\n",
    "    plt.plot(time_period,model_wolves.predict(X))\n",
    "    plt.scatter(time_period,model_elk.predict(X))\n",
    "    plt.plot(time_period,model_elk.predict(X))\n",
    "    plt.title(\"Elk vs. Wolf Population\")\n",
    "    plt.show()"
   ]
  },
  {
   "cell_type": "code",
   "execution_count": null,
   "metadata": {
    "collapsed": false
   },
   "outputs": [],
   "source": [
    "slider = widgets.IntSlider(min=1,max=16,step=1,value=5)\n",
    "display(widgets.interactive(future_population_knn, neighbors=slider))"
   ]
  },
  {
   "cell_type": "markdown",
   "metadata": {},
   "source": [
    "This looks more reasonable, but the straight lines at the end are not practical for a life cycle. Nevertheless, we will always have updated population numbers each year that we can add to this, so that the next few years may actually be quite accurate!"
   ]
  },
  {
   "cell_type": "markdown",
   "metadata": {
    "collapsed": true
   },
   "source": [
    "---\n",
    "\n",
    "Prey is a very important factor in predator-prey interaction with a profound effect on the wolf population. Predators kill and eat other organisms, their prey. If or when a predator runs out of prey, they run the risk of dying out. Usually, the populations of predators and prey in an ecosystem oscillate in a cycle, which, surprisingly, can often be described using mathematical models. In this cycle, the prey population typically peaks just before the predator population does (usually at about ¼ of a cycle). \n",
    "\n",
    "Take a moment to think about what other factors might be related to wolf populations. There are definitely a lot of factors! \n",
    "\n",
    "\n",
    "* What other factors might be related to wolf populations?\n",
    "\n",
    "    \n",
    "* Predator-Prey interactions\n",
    "    * Prey is a very important factor, one of many factors\n",
    "    * How do predators and their prey affect one another?\n",
    "        * Predators kill and eat other organisms, their prey\n",
    "        * Predator runs out of prey, dies out\n",
    "    * Prey population typically peaks before predator population (usually ¼ of a cycle), natural oscillation\n",
    "    \n",
    "    \n",
    "* Explain K-nearest neighbors (in layman terms)\n",
    "    \n",
    "\n",
    "* We can only choose some factors - which should we take into account? Why?\n",
    "\n",
    "\n",
    "* The factors we chose/will use:\n",
    "    * Elk population?\n",
    "    * Bison population?\n",
    "        * potential source for number of bison: http://ibmp.info/Library/OpsPlans/2016_StatusYellowstoneBisonPopulation_Sep2016.pdf\n",
    "            * note on usage: population control measures are commonly used in yellowstone for bison"
   ]
  }
 ],
 "metadata": {
  "anaconda-cloud": {},
  "kernelspec": {
   "display_name": "Python [default]",
   "language": "python",
   "name": "python3"
  },
  "language_info": {
   "codemirror_mode": {
    "name": "ipython",
    "version": 3
   },
   "file_extension": ".py",
   "mimetype": "text/x-python",
   "name": "python",
   "nbconvert_exporter": "python",
   "pygments_lexer": "ipython3",
   "version": "3.5.2"
  },
  "widgets": {
   "state": {
    "04c49c13749245c9bd16c903061f06a5": {
     "views": [
      {
       "cell_index": 10
      }
     ]
    },
    "1babd268cf1f4d7d9feb2881c739dfb3": {
     "views": [
      {
       "cell_index": 50
      }
     ]
    },
    "35a4f65d3dca41b28cd58a27ac29ca4e": {
     "views": [
      {
       "cell_index": 20
      }
     ]
    },
    "47b4be34f77b49bfbfbba8cdb4b138a4": {
     "views": [
      {
       "cell_index": 42
      }
     ]
    },
    "5bbb34e3f9654c2287f1d20036bd306f": {
     "views": [
      {
       "cell_index": 54
      }
     ]
    },
    "647a6d867f1f4c939d0b7cb56869d760": {
     "views": [
      {
       "cell_index": 29
      }
     ]
    },
    "87de8af996ad4941b4f771e8b7d789b2": {
     "views": [
      {
       "cell_index": 47
      }
     ]
    },
    "a1233eb7f042468ead47c030940f0405": {
     "views": [
      {
       "cell_index": 57
      }
     ]
    },
    "a3837fbfbc3a489799378051d1f6ae3d": {
     "views": [
      {
       "cell_index": 52
      }
     ]
    },
    "d4e1d86a61c84740bea4fbeca85c03de": {
     "views": [
      {
       "cell_index": 44
      }
     ]
    }
   },
   "version": "1.2.0"
  }
 },
 "nbformat": 4,
 "nbformat_minor": 1
}
