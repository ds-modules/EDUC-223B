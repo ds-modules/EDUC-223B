{
 "cells": [
  {
   "cell_type": "markdown",
   "metadata": {},
   "source": [
    "# Making Predictions\n",
    "#### Michelle Wilkerson"
   ]
  },
  {
   "cell_type": "markdown",
   "metadata": {},
   "source": [
    "The goal of this lesson is to explore different models and methods for making predictions using data related to gray wolves and Yellowstone National Park. Each model comes with its own pros and cons that need to be considered, and we hope that by the end of this exploration, you will be able to think about possible benefits that come with different methodologies and be more critical of prediction techniques that you encounter."
   ]
  },
  {
   "cell_type": "markdown",
   "metadata": {},
   "source": [
    "### Background\n",
    "\n",
    "Yellowstone is a national park located in Wyoming, Montana, and Idaho, covering almost 3,500 square miles. It became the first National Park in the United States in 1872 under President Ulysses S. Grant. It is thought to not only be the first National Park in the United states, but also the first national park in the world.\n",
    "\n",
    "<img src=http://d1njyp8tsu122i.cloudfront.net/wp-content/uploads/map-lodging-by-state_680x392.jpg width=600>\n",
    "\n",
    "Yellowstone is famous primarily for two things:\n",
    "\n",
    "First, for its geysers and hot springs. It contains about half of the world’s geysers, with over 450 active geysers. For comparison, the next second largest collection of active geysers has about 200. It is home to the world's tallest active geyser, Steamboat Geyser, and to the famous <a href=\"https://youtu.be/h9uRaEoEV-U?t=1m36s\">Old Faithful Geyser</a>. \n",
    "\n",
    "The park is also famous for its wildlife. According to the National Park Service, Yellowstone is \"home to the largest concentration of mammals in the lower 48 states,\" with 67 species of mammals, and over 325 different species of birds, fish, amphibians, and reptiles.\n",
    "\n",
    "Despite being a National Park, the animals of Yellowstone were not originally offered special protections.\n",
    "The <a href=https://www.nps.gov/yell/learn/management/yellowstoneprotectionact1872.htm>Yellowstone National Park Protection Act</a> said that the Secretary of the Interior would \"provide against the wanton destruction of the fish and game found within [Yellowstone],\" but made no specific provisions, and left wiggle room for interpretation. Of semi-recent attention has been the status of gray wolves in the park -- which are neither game nor fish, so under the Protection Act, were left on their own. \n",
    "\n",
    "<img src=http://d1njyp8tsu122i.cloudfront.net/wp-content/uploads/Yellowstone-Wildlife-Wolf-11.jpg width=400>\n",
    "\n",
    "Historically, gray wolves roamed about <a href=\"https://www.nwf.org/Wildlife/Wildlife-Library/Mammals/Gray-Wolf.aspx\">two-thirds</a> of the United States, with numbers estimated to be over a quarter-million, but by the 1960s, the only wild gray wolves in the lower 48 states were restricted to <a href=\"http://www.missionwolf.org/page/wild-wolf-history/\">Michigan and Minnesota</a>.\n",
    "\n",
    "With America's westward expansion came the tolling of the bells for wolves. Not only did they have to compete with settlers for space, but they were also hunted. Farmers and ranchers feared for their livestock, and successfully advocated for programs to reduce gray wolf populations. Beginning in the 19th century and continuing into the 20th, there were <a href=\"https://www.fws.gov/midwest/wolf/aboutwolves/biologue.htm\">government programs that offered bounties for each wolf killed</a>. In 1880, the superintendent of Yellowstone had stated that <a href=\"http://www.pbs.org/wnet/nature/the-wolf-that-changed-america-wolf-wars-americas-campaign-to-eradicate-the-wolf/4312/\">\"the value of their [wolves and coyotes] hides and their easy slaughter with strychnine-poisoned carcasses have nearly led to their extermination.”</a> By the end of the 1920s, gray wolves had disappeared from most of the United States. \n",
    "\n",
    "<img src=http://www.hcn.org/issues/46.21/have-returning-wolves-really-saved-yellowstone/yellowstonewolves1-jpg/@@images/7fdf9c1c-9425-45dd-99a7-fe6f43ffa3a1.jpeg width=400>\n",
    "\n",
    "In 1973, Greater Yellowstone was named as one of three recovery areas for the endangered gray wolf. From 1995 to 1997, 41 wild wolves from Montana and Canada were released in Yellowstone National Park, where their populations have been climbing since. "
   ]
  },
  {
   "cell_type": "markdown",
   "metadata": {},
   "source": [
    "#### Wolves in Yellowstone\n",
    "Wolves in Yellowstone primarily feed on hooved animals, the most common being elk, and deer and smaller animals during the summer. When the wolves were reintroduced to the park, of course we would expect some sort of effect on the populations of those animals of prey. In this notebook, we are going to investigate what those effects were on the elk populations, and also on the wolf populations."
   ]
  },
  {
   "cell_type": "markdown",
   "metadata": {},
   "source": [
    "Before we begin analyzing our data, we need to run some cells of code. You don't need to know what these cells are doing in any detail, for now. To run a cell of code, click on the cell, then type `SHIFT-ENTER` or simply click the button on the toolbar at the top of the page that looks like ▶| . Run each cell of code as you work down the notebook, in the order they are placed. Some cells rely on others above it, so if you don't run them in order, you may encounter some puzzling errors."
   ]
  },
  {
   "cell_type": "code",
   "execution_count": 20,
   "metadata": {
    "collapsed": true
   },
   "outputs": [],
   "source": [
    "#import statements\n",
    "import pandas as pd\n",
    "import matplotlib.pyplot as plt\n",
    "from sklearn.neighbors import KNeighborsRegressor\n",
    "import numpy as np\n",
    "from scipy.optimize import minimize\n",
    "import ipywidgets as widgets\n",
    "from IPython.display import display\n",
    "from matplotlib.ticker import FuncFormatter\n",
    "import warnings\n",
    "warnings.filterwarnings('ignore')\n",
    "%matplotlib inline"
   ]
  },
  {
   "cell_type": "markdown",
   "metadata": {},
   "source": [
    "Our first data set contains the wolf and elk populations from 1994 to 2012, though there are some years missing in the late 90s. Run the cell below to view a print-out of the table we will be working with."
   ]
  },
  {
   "cell_type": "code",
   "execution_count": 21,
   "metadata": {
    "collapsed": false
   },
   "outputs": [
    {
     "data": {
      "text/html": [
       "<div>\n",
       "<table border=\"1\" class=\"dataframe\">\n",
       "  <thead>\n",
       "    <tr style=\"text-align: right;\">\n",
       "      <th></th>\n",
       "      <th>Year</th>\n",
       "      <th>Elk Population</th>\n",
       "      <th>Wolf Population</th>\n",
       "    </tr>\n",
       "  </thead>\n",
       "  <tbody>\n",
       "    <tr>\n",
       "      <th>0</th>\n",
       "      <td>1994</td>\n",
       "      <td>19045</td>\n",
       "      <td>0</td>\n",
       "    </tr>\n",
       "    <tr>\n",
       "      <th>1</th>\n",
       "      <td>1995</td>\n",
       "      <td>16791</td>\n",
       "      <td>0</td>\n",
       "    </tr>\n",
       "    <tr>\n",
       "      <th>2</th>\n",
       "      <td>1999</td>\n",
       "      <td>14538</td>\n",
       "      <td>118</td>\n",
       "    </tr>\n",
       "    <tr>\n",
       "      <th>3</th>\n",
       "      <td>2000</td>\n",
       "      <td>13400</td>\n",
       "      <td>177</td>\n",
       "    </tr>\n",
       "    <tr>\n",
       "      <th>4</th>\n",
       "      <td>2001</td>\n",
       "      <td>11969</td>\n",
       "      <td>227</td>\n",
       "    </tr>\n",
       "    <tr>\n",
       "      <th>5</th>\n",
       "      <td>2002</td>\n",
       "      <td>9215</td>\n",
       "      <td>271</td>\n",
       "    </tr>\n",
       "    <tr>\n",
       "      <th>6</th>\n",
       "      <td>2003</td>\n",
       "      <td>9215</td>\n",
       "      <td>301</td>\n",
       "    </tr>\n",
       "    <tr>\n",
       "      <th>7</th>\n",
       "      <td>2004</td>\n",
       "      <td>8335</td>\n",
       "      <td>324</td>\n",
       "    </tr>\n",
       "    <tr>\n",
       "      <th>8</th>\n",
       "      <td>2005</td>\n",
       "      <td>9545</td>\n",
       "      <td>325</td>\n",
       "    </tr>\n",
       "    <tr>\n",
       "      <th>9</th>\n",
       "      <td>2006</td>\n",
       "      <td>6588</td>\n",
       "      <td>390</td>\n",
       "    </tr>\n",
       "    <tr>\n",
       "      <th>10</th>\n",
       "      <td>2007</td>\n",
       "      <td>6738</td>\n",
       "      <td>435</td>\n",
       "    </tr>\n",
       "    <tr>\n",
       "      <th>11</th>\n",
       "      <td>2008</td>\n",
       "      <td>6279</td>\n",
       "      <td>449</td>\n",
       "    </tr>\n",
       "    <tr>\n",
       "      <th>12</th>\n",
       "      <td>2009</td>\n",
       "      <td>6070</td>\n",
       "      <td>455</td>\n",
       "    </tr>\n",
       "    <tr>\n",
       "      <th>13</th>\n",
       "      <td>2010</td>\n",
       "      <td>4635</td>\n",
       "      <td>501</td>\n",
       "    </tr>\n",
       "    <tr>\n",
       "      <th>14</th>\n",
       "      <td>2011</td>\n",
       "      <td>4174</td>\n",
       "      <td>499</td>\n",
       "    </tr>\n",
       "    <tr>\n",
       "      <th>15</th>\n",
       "      <td>2012</td>\n",
       "      <td>3915</td>\n",
       "      <td>480</td>\n",
       "    </tr>\n",
       "  </tbody>\n",
       "</table>\n",
       "</div>"
      ],
      "text/plain": [
       "    Year  Elk Population  Wolf Population\n",
       "0   1994           19045                0\n",
       "1   1995           16791                0\n",
       "2   1999           14538              118\n",
       "3   2000           13400              177\n",
       "4   2001           11969              227\n",
       "5   2002            9215              271\n",
       "6   2003            9215              301\n",
       "7   2004            8335              324\n",
       "8   2005            9545              325\n",
       "9   2006            6588              390\n",
       "10  2007            6738              435\n",
       "11  2008            6279              449\n",
       "12  2009            6070              455\n",
       "13  2010            4635              501\n",
       "14  2011            4174              499\n",
       "15  2012            3915              480"
      ]
     },
     "execution_count": 21,
     "metadata": {},
     "output_type": "execute_result"
    }
   ],
   "source": [
    "# reading in our data from an existing file\n",
    "data = pd.read_csv('wolf_and_elk_in_yellowstone.csv', thousands=',').drop('Notes', axis=1).dropna().reset_index(drop=True)\n",
    "data"
   ]
  },
  {
   "cell_type": "markdown",
   "metadata": {},
   "source": [
    "To get a sense of the data, it is helpful to visualize it with graphs. The cell below constructs two graphs from the data table above and plots the change in each animal's population numbers over time."
   ]
  },
  {
   "cell_type": "code",
   "execution_count": 5,
   "metadata": {
    "collapsed": false
   },
   "outputs": [
    {
     "data": {
      "text/plain": [
       "<matplotlib.text.Text at 0x109148f90>"
      ]
     },
     "execution_count": 5,
     "metadata": {},
     "output_type": "execute_result"
    },
    {
     "data": {
      "image/png": "[encoded data removed]",
      "text/plain": [
       "<matplotlib.figure.Figure at 0x108dd2110>"
      ]
     },
     "metadata": {},
     "output_type": "display_data"
    }
   ],
   "source": [
    "f, axs = plt.subplots(1,2,figsize=(15, 6))\n",
    "\n",
    "axs[0].plot(data['Year'], data['Elk Population'])\n",
    "axs[0].set_title('Elk')\n",
    "\n",
    "axs[1].plot(data['Year'], data['Wolf Population'])\n",
    "axs[1].set_title('Wolves')"
   ]
  },
  {
   "cell_type": "markdown",
   "metadata": {},
   "source": [
    "Plotting the populations separately makes it difficult to see the the absolute changes in population relative to one another, so next, we will plot them on the same y-axis."
   ]
  },
  {
   "cell_type": "code",
   "execution_count": 8,
   "metadata": {
    "collapsed": false
   },
   "outputs": [
    {
     "data": {
      "text/plain": [
       "<matplotlib.axes._subplots.AxesSubplot at 0x108ac8b90>"
      ]
     },
     "execution_count": 8,
     "metadata": {},
     "output_type": "execute_result"
    },
    {
     "data": {
      "image/png": "[encoded data removed]",
      "text/plain": [
       "<matplotlib.figure.Figure at 0x1091a0b90>"
      ]
     },
     "metadata": {},
     "output_type": "display_data"
    }
   ],
   "source": [
    "data.plot('Year', figsize=(9,6))"
   ]
  },
  {
   "cell_type": "markdown",
   "metadata": {},
   "source": [
    "Another helpful view may be to look at the percent change in population from year to year. Play with the slider to increase the length of the period (the number of years) that the percent change is measured over."
   ]
  },
  {
   "cell_type": "code",
   "execution_count": 22,
   "metadata": {
    "collapsed": true
   },
   "outputs": [],
   "source": [
    "def percent_changing(periods=1):\n",
    "    percent_changed = data.pct_change(periods)\n",
    "    \n",
    "    fig = plt.figure()\n",
    "    ax = fig.add_subplot(1,1,1)\n",
    "    \n",
    "    plt.plot(data['Year'], percent_changed['Elk Population'], c='b')\n",
    "    plt.plot(data['Year'], percent_changed['Wolf Population'], c='g')\n",
    "    plt.axhline(y=0, c=\"r\")\n",
    "    plt.legend()\n",
    "    ax.yaxis.set_major_formatter(FuncFormatter('{0:.0%}'.format))\n",
    "    plt.show()"
   ]
  },
  {
   "cell_type": "code",
   "execution_count": 23,
   "metadata": {
    "collapsed": false
   },
   "outputs": [
    {
     "data": {
      "image/png": "[encoded data removed]",
      "text/plain": [
       "<matplotlib.figure.Figure at 0x108d6c790>"
      ]
     },
     "metadata": {},
     "output_type": "display_data"
    }
   ],
   "source": [
    "slider = widgets.IntSlider(min=1,max=6,step=1,value=1)\n",
    "display(widgets.interactive(percent_changing, periods=slider))"
   ]
  },
  {
   "cell_type": "markdown",
   "metadata": {},
   "source": [
    "<font color=\"blue\">Question:</font> Based on the data and the graphs above, what do you think is going on with the wolf and elk populations? How do you think they will change going forward? Are they close to equilibrium?\n",
    "\n",
    "*Write your response in the cell below, then type*  `SHIFT-ENTER`"
   ]
  },
  {
   "cell_type": "raw",
   "metadata": {
    "collapsed": true
   },
   "source": []
  },
  {
   "cell_type": "markdown",
   "metadata": {},
   "source": [
    "<font color=\"blue\">Question: </font> How do you think the changing populations of wolves and elk will impact Yellowstone park and its other animal populations? Specifically, how do you think these trends will affect the populations of wolves' other prey? What about other predatory species that also hunt those prey? How about flora populations?\n",
    "\n",
    "*Write your response in the cell below, then type*  `SHIFT-ENTER`"
   ]
  },
  {
   "cell_type": "raw",
   "metadata": {},
   "source": []
  },
  {
   "cell_type": "markdown",
   "metadata": {},
   "source": [
    "### Prediction\n",
    "\n",
    "Prediction is a powerful tool that we can use to make guesses about how data will look in the future based on previous trends. We are going to start discussing some basic prediction techniques, then move on to some more complex techniques to predict how the populations of the animals we've been talking about might look in the future."
   ]
  },
  {
   "cell_type": "markdown",
   "metadata": {},
   "source": [
    "#### Single Point Model\n",
    "\n",
    "First, the Single Point model. This method of prediction takes one data point from our existing data and uses it to predict the populations for the next year. \n",
    "\n",
    "<font color='blue'>Question:</font> What issues might arise from using this method?"
   ]
  },
  {
   "cell_type": "raw",
   "metadata": {},
   "source": []
  },
  {
   "cell_type": "markdown",
   "metadata": {},
   "source": [
    "#### Linear Regression Model for Predicting Population\n",
    "\n",
    "Linear regression can be done in two ways: First, we can create a regression line using all of the data points that we currently have to make a prediction about the population in future years. We could also use $N$-most recent points from our data set to make a prediction about future years' populations, rather than using all of our data.\n",
    "\n",
    "<font color='blue'>Question:</font> Think about the differences between these two models. How are they similar? How are the findings/conclusions similar or different? What are the pros and cons of each?"
   ]
  },
  {
   "cell_type": "raw",
   "metadata": {},
   "source": []
  },
  {
   "cell_type": "markdown",
   "metadata": {},
   "source": [
    "In the cell below, we have some code that implements a linear regression model on our data. We will use this to investigate how changing the number of data points that we consider when doing regression influences the prediction of the next year's population. \n",
    "\n",
    "Run the cell, then below you'll see a visualization with a slider bar that allows you to select the number of data points to consider for the linear regression model. Try to take note of how the prediction for the population number is affected when you consider more vs. fewer data points in the regression model.  "
   ]
  },
  {
   "cell_type": "code",
   "execution_count": 34,
   "metadata": {
    "collapsed": true
   },
   "outputs": [],
   "source": [
    "def regressiont(included_points=16):\n",
    "    \n",
    "    ignore = 16 - included_points  #indexes to ignore\n",
    "    \n",
    "    #prediction values\n",
    "    yp = data['Wolf Population'][ignore:]\n",
    "    tp = data['Year'][ignore:]\n",
    "    \n",
    "    #values\n",
    "    y = data['Wolf Population']\n",
    "    t = data['Year']\n",
    "    \n",
    "    #loss function\n",
    "    def res(pars):\n",
    "        a, b = pars\n",
    "        yp_hat = a + b * tp\n",
    "        res = yp - yp_hat\n",
    "        return sum(res**2)\n",
    "    \n",
    "    #optimal paramters\n",
    "    a, b = minimize(res, (-6.06621468e+04,   3.04230758e+01)).x\n",
    "    \n",
    "    #parameters for constant\n",
    "    if included_points == 1:\n",
    "        a, b = 480, 0\n",
    "    \n",
    "    y_hat = a + b * t  #precited values\n",
    "    fitline = [y_hat.iloc[0], y_hat.iloc[-1]]  #fit line end points\n",
    "    fittime = [t.iloc[0], t.iloc[-1]]  #fit line time values\n",
    "    \n",
    "    \n",
    "    y_prime = a + b * 2013  #predicted point\n",
    "    \n",
    "    \n",
    "    ax1 = plt.scatter(t, y, c='b')  #points\n",
    "    ax2 = plt.plot(fittime, fitline, 'r--')  #fitline\n",
    "    ax3 = plt.plot(tp, yp, 'rs')  #points used to predict\n",
    "    ax4 = plt.scatter(t.iloc[-1] +1, y_prime, c='g', marker='^')  #predicted point\n",
    "    \n",
    "    #graph labels\n",
    "    plt.xticks(t.append(pd.Series([2013]))[::2])\n",
    "    plt.xlabel('Year')\n",
    "    plt.ylabel('Wolf Popultion')\n",
    "    \n",
    "    #display graph and predicted value\n",
    "    plt.show()\n",
    "    print('Predicted 2013 wolf population:', round(y_prime))"
   ]
  },
  {
   "cell_type": "code",
   "execution_count": 35,
   "metadata": {
    "collapsed": false,
    "scrolled": false
   },
   "outputs": [
    {
     "data": {
      "image/png": "[encoded data removed]",
      "text/plain": [
       "<matplotlib.figure.Figure at 0x10a4afd90>"
      ]
     },
     "metadata": {},
     "output_type": "display_data"
    },
    {
     "name": "stdout",
     "output_type": "stream",
     "text": [
      "Predicted 2013 wolf population: 580.0\n"
     ]
    }
   ],
   "source": [
    "p_slider = widgets.IntSlider(min=1, max=16, step=1, value=1)\n",
    "w=widgets.interactive(regressiont,included_points=p_slider)\n",
    "display(w)"
   ]
  },
  {
   "cell_type": "markdown",
   "metadata": {},
   "source": [
    "#### K-Nearest Neighbor Model for Predicting Population\n",
    "\n",
    "K-Nearest Neighbors (a.k.a. kNN) is an algorithm used for prediction that compares features of a new data point to the $K$ existing data points that are closest to it (\"close\"ness depending on the measures of similarity you decide to use) to make a prediction about that data point. We will be using kNN regression, as opposed to kNN classification.\n",
    "\n",
    "\n",
    "\n",
    "A basic example of kNN regression is using proximity to other buildings to predict the height of a new one.\n",
    "Say that we want to predict the number of stories that a new apartment complex will have based on the apartment complexes that are around it."
   ]
  },
  {
   "cell_type": "code",
   "execution_count": 36,
   "metadata": {
    "collapsed": true
   },
   "outputs": [],
   "source": [
    "def knn(neighbors=1):\n",
    "    model = KNeighborsRegressor(neighbors)\n",
    "\n",
    "    X = np.array([[-1, -1.5], [-2, -1.5], [-3, -2], [1, 1], [2, 1], [3, 3]])\n",
    "    random_y_values = np.array([2,3,4,5,4,1])\n",
    "\n",
    "    to_predict = [0,0]\n",
    "    \n",
    "    model.fit(X, random_y_values)\n",
    "    dist, ind = model.kneighbors(to_predict)\n",
    "\n",
    "    fig, axes = plt.subplots(nrows=1, ncols=2, figsize=(15,7))\n",
    "\n",
    "    circle = plt.Circle(to_predict, max(dist[0]), color='g', alpha=.2)\n",
    "    axes[0].add_artist(circle)\n",
    "\n",
    "    axes[0].plot(to_predict[0], to_predict[1],'x', color='g', mew=3)\n",
    "\n",
    "    axes[0].scatter(X[:,0], X[:,1], color='black')\n",
    "\n",
    "\n",
    "    closest_points = X[ind[0]]\n",
    "    \n",
    "    axes[0].set_title('Distances')\n",
    "    x_coords = closest_points.transpose()[0]\n",
    "    y_coords = closest_points.transpose()[1]\n",
    "    axes[0].scatter(x_coords, y_coords, color='r')\n",
    "    \n",
    "    for i in range(len(random_y_values)):\n",
    "        position = X[i]\n",
    "        axes[0].text(position[0]-.05, position[1]+.07, str(random_y_values[i]))\n",
    "    \n",
    "    \n",
    "    num_points = len(ind[0])\n",
    "    axes[1].set_xlim([0,7])\n",
    "    axes[1].set_ylim([0,6])\n",
    "\n",
    "    \n",
    "    \n",
    "    values = []\n",
    "    for i in range(num_points):\n",
    "        value = random_y_values[ind[0][i]]\n",
    "        axes[1].vlines(x=i+1, ymin=0, ymax=value,\n",
    "                       color='r', linewidths=15)\n",
    "        values.append(value)\n",
    "    axes[1].hlines(y=np.mean(values), xmin=0, xmax=12,\n",
    "                  linestyles='dashed', linewidths=2, color='g')\n",
    "\n",
    "    axes[1].set_title('Values of k closest')\n",
    "    axes[1].set_xlabel('k')\n",
    "    axes[1].set_ylabel('Value')\n",
    "    plt.show()\n",
    "    print('Predicted Value: ', np.mean(values))"
   ]
  },
  {
   "cell_type": "code",
   "execution_count": 37,
   "metadata": {
    "collapsed": false
   },
   "outputs": [
    {
     "data": {
      "image/png": "[encoded data removed]",
      "text/plain": [
       "<matplotlib.figure.Figure at 0x10a1f5c50>"
      ]
     },
     "metadata": {},
     "output_type": "display_data"
    },
    {
     "name": "stdout",
     "output_type": "stream",
     "text": [
      "Predicted Value:  3.16666666667\n"
     ]
    }
   ],
   "source": [
    "slider = widgets.IntSlider(min=1,max=6,step=1,value=1)\n",
    "display(widgets.interactive(knn, neighbors=slider))"
   ]
  },
  {
   "cell_type": "markdown",
   "metadata": {
    "collapsed": true
   },
   "source": [
    "Prey is a very important factor in predator-prey interaction with a profound effect on the wolf population. Predators kill and eat other organisms, their prey. If or when a predator runs out of prey, they run the risk of dying out. Usually, the populations of predators and prey in an ecosystem oscillate in a cycle, which, surprisingly, can often be described using mathematical models. In this cycle, the prey population typically peaks just before the predator population does (usually at about ¼ of a cycle). \n",
    "\n",
    "Take a moment to think about what other factors might be related to wolf populations. There are definitely a lot of factors! \n",
    "\n",
    "\n",
    "* What other factors might be related to wolf populations?\n",
    "\n",
    "    \n",
    "* Predator-Prey interactions\n",
    "    * Prey is a very important factor, one of many factors\n",
    "    * How do predators and their prey affect one another?\n",
    "        * Predators kill and eat other organisms, their prey\n",
    "        * Predator runs out of prey, dies out\n",
    "    * Prey population typically peaks before predator population (usually ¼ of a cycle), natural oscillation\n",
    "    \n",
    "    \n",
    "* Explain K-nearest neighbors (in layman terms)\n",
    "    \n",
    "\n",
    "* We can only choose some factors - which should we take into account? Why?\n",
    "\n",
    "\n",
    "* The factors we chose/will use:\n",
    "    * Elk population?\n",
    "    * Bison population?\n",
    "        * potential source for number of bison: http://ibmp.info/Library/OpsPlans/2016_StatusYellowstoneBisonPopulation_Sep2016.pdf\n",
    "            * note on usage: population control measures are commonly used in yellowstone for bison"
   ]
  },
  {
   "cell_type": "markdown",
   "metadata": {},
   "source": [
    "##### Comparison\n",
    "\n",
    "* Compare all the models\n",
    "    * Same questions as before\n",
    "    * Which would you choose to use? Why?"
   ]
  },
  {
   "cell_type": "markdown",
   "metadata": {},
   "source": [
    "##### Potential Issues with Data, Findings, etc?"
   ]
  },
  {
   "cell_type": "markdown",
   "metadata": {},
   "source": [
    "##### Conclusion\n",
    "\n",
    "* Takeaways\n",
    "\n",
    "\n",
    "* Importance of findings/broader implications\n",
    "    * Don’t know credible this video is but… https://www.facebook.com/newsnercom/videos/810945719072741/\n",
    "    * Video in forwards"
   ]
  },
  {
   "cell_type": "markdown",
   "metadata": {},
   "source": [
    "##### regression demo that shows what happens as you include more points in making your prediction"
   ]
  },
  {
   "cell_type": "markdown",
   "metadata": {},
   "source": [
    "##### Making a graph that shows the points selected for kNN"
   ]
  }
 ],
 "metadata": {
  "anaconda-cloud": {},
  "kernelspec": {
   "display_name": "Python [datahub]",
   "language": "python",
   "name": "Python [datahub]"
  },
  "language_info": {
   "codemirror_mode": {
    "name": "ipython",
    "version": 3
   },
   "file_extension": ".py",
   "mimetype": "text/x-python",
   "name": "python",
   "nbconvert_exporter": "python",
   "pygments_lexer": "ipython3",
   "version": "3.3.5"
  },
  "widgets": {
   "state": {
    "2c0a89c704de4825b8b4ce6c6d41dd87": {
     "views": [
      {
       "cell_index": 29
      }
     ]
    },
    "53176cbe96aa406897e9b5ba4b6ae667": {
     "views": [
      {
       "cell_index": 14
      }
     ]
    },
    "ec9b6165fd48406dac1aaf16854acd24": {
     "views": [
      {
       "cell_index": 26
      }
     ]
    }
   },
   "version": "1.2.0"
  }
 },
 "nbformat": 4,
 "nbformat_minor": 1
}
