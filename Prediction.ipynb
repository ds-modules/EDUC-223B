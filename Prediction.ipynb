{
 "cells": [
  {
   "cell_type": "markdown",
   "metadata": {},
   "source": [
    "# Making Predictions\n",
    "### Michelle Wilkerson"
   ]
  },
  {
   "cell_type": "markdown",
   "metadata": {},
   "source": [
    "##### Introduction\n",
    "\n",
    "* Background on history of wolves in Yellowstone\n",
    "    * By the end of the 1920s gray wolves (canis lupus) had disappeared from most of the United States due to loss of habitat and extermination programs.\n",
    "    * In 1973, Greater Yellowstone was named as one of three recovery areas for the endangered gray wolf.\n",
    "    \n",
    "    \n",
    "* Reintroduction of wolves in Yellowstone\n",
    "    * From 1995 to 1997, 41 wild wolves from Montana and Canada were released in Yellowstone National Park.\n",
    "    \n",
    "    \n",
    "* Wolves in Yellowstone\n",
    "    * Wolves in Yellowstone primarily feed on hooved animals, the most common being elk, and more deer and smaller animals during the summer."
   ]
  },
  {
   "cell_type": "markdown",
   "metadata": {},
   "source": [
    "##### Hypotheses\n",
    "\n",
    "* Data\n",
    "    * Provide some data on elk, other hooved animals, etc. in Yellowstone/Greater Yellowstone\n",
    "\n",
    "\n",
    "* Students guess how they think wolf population will change.\n",
    "    \n",
    "    \n",
    "* Students guess what they think the impact will be on park (touching on predator-prey interactions)\n",
    "\n",
    "    * Other prey populations\n",
    "    * Predator populations\n",
    "    * Flora populations\n",
    "    * Why?"
   ]
  },
  {
   "cell_type": "markdown",
   "metadata": {},
   "source": [
    "##### One Point Model for Predicting Population\n",
    "\n",
    "* Simplest/most basic method\n",
    "\n",
    "\n",
    "* Using one single point to predict the population in the following year\n",
    "\n",
    "\n",
    "* What issues might arise with this method?"
   ]
  },
  {
   "cell_type": "markdown",
   "metadata": {},
   "source": [
    "##### Linear Regression Model for Predicting Population\n",
    "\n",
    "* All points\n",
    "    * Creating regression line using data from every year\n",
    "    * Use this regression line to predict population in future years\n",
    "\n",
    "    \n",
    "* Using N-most recent points\n",
    "    * Creating regression line using data only from N-most recent years\n",
    "    * Use this regression line to predict population in future years \n",
    "    \n",
    "    \n",
    "* Comparison\n",
    "    * Compare the two models\n",
    "    * How are they similar? How are they different? How are the findings/conclusions similar or different? What are the pros and cons of each?"
   ]
  },
  {
   "cell_type": "markdown",
   "metadata": {},
   "source": [
    "##### K-Nearest Neighbor Model for Predicting Population\n",
    "\n",
    "* What other factors might be related to wolf populations?\n",
    "\n",
    "    \n",
    "* Predator-Prey interactions\n",
    "    * Prey is a very important factor, one of many factors\n",
    "    * How do predators and their prey affect one another?\n",
    "        * Predators kill and eat other organisms, their prey\n",
    "        * Predator runs out of prey, dies out\n",
    "    * Prey population typically peaks before predator population (usually ¼ of a cycle), natural oscillation\n",
    "    \n",
    "    \n",
    "* Explain K-nearest neighbors (in layman terms)\n",
    "    \n",
    "\n",
    "* We can only choose some factors - which should we take into account? Why?\n",
    "\n",
    "\n",
    "* The factors we chose/will use:\n",
    "    * Elk population?\n",
    "    * Bison population?\n",
    "        * potential source for number of bison: http://ibmp.info/Library/OpsPlans/2016_StatusYellowstoneBisonPopulation_Sep2016.pdf\n",
    "            * note on usage: population control measures are commonly used in yellowstone for bison"
   ]
  },
  {
   "cell_type": "markdown",
   "metadata": {},
   "source": [
    "##### Comparison\n",
    "\n",
    "* Compare all the models\n",
    "    * Same questions as before\n",
    "    * Which would you choose to use? Why?"
   ]
  },
  {
   "cell_type": "markdown",
   "metadata": {},
   "source": [
    "##### Potential Issues with Data, Findings, etc?"
   ]
  },
  {
   "cell_type": "markdown",
   "metadata": {},
   "source": [
    "##### Conclusion\n",
    "\n",
    "* Takeaways\n",
    "\n",
    "\n",
    "* Importance of findings/broader implications\n",
    "    * Don’t know credible this video is but… https://www.facebook.com/newsnercom/videos/810945719072741/\n",
    "    * Video in forwards"
   ]
  },
  {
   "cell_type": "code",
   "execution_count": 1,
   "metadata": {
    "collapsed": true
   },
   "outputs": [],
   "source": [
    "import pandas as pd\n",
    "import matplotlib.pyplot as plt\n",
    "from sklearn.neighbors import KNeighborsRegressor\n",
    "import numpy as np\n",
    "from scipy.optimize import minimize\n",
    "import ipywidgets as widgets\n",
    "from IPython.display import display\n",
    "import warnings\n",
    "warnings.filterwarnings('ignore')\n",
    "%matplotlib inline"
   ]
  },
  {
   "cell_type": "code",
   "execution_count": 2,
   "metadata": {
    "collapsed": false
   },
   "outputs": [
    {
     "data": {
      "text/html": [
       "<div>\n",
       "<table border=\"1\" class=\"dataframe\">\n",
       "  <thead>\n",
       "    <tr style=\"text-align: right;\">\n",
       "      <th></th>\n",
       "      <th>Year</th>\n",
       "      <th>Elk Population</th>\n",
       "      <th>Wolf Population</th>\n",
       "    </tr>\n",
       "  </thead>\n",
       "  <tbody>\n",
       "    <tr>\n",
       "      <th>0</th>\n",
       "      <td>1994</td>\n",
       "      <td>19045.0</td>\n",
       "      <td>0.0</td>\n",
       "    </tr>\n",
       "    <tr>\n",
       "      <th>1</th>\n",
       "      <td>1995</td>\n",
       "      <td>16791.0</td>\n",
       "      <td>0.0</td>\n",
       "    </tr>\n",
       "    <tr>\n",
       "      <th>2</th>\n",
       "      <td>1999</td>\n",
       "      <td>14538.0</td>\n",
       "      <td>118.0</td>\n",
       "    </tr>\n",
       "    <tr>\n",
       "      <th>3</th>\n",
       "      <td>2000</td>\n",
       "      <td>13400.0</td>\n",
       "      <td>177.0</td>\n",
       "    </tr>\n",
       "    <tr>\n",
       "      <th>4</th>\n",
       "      <td>2001</td>\n",
       "      <td>11969.0</td>\n",
       "      <td>227.0</td>\n",
       "    </tr>\n",
       "  </tbody>\n",
       "</table>\n",
       "</div>"
      ],
      "text/plain": [
       "   Year  Elk Population  Wolf Population\n",
       "0  1994         19045.0              0.0\n",
       "1  1995         16791.0              0.0\n",
       "2  1999         14538.0            118.0\n",
       "3  2000         13400.0            177.0\n",
       "4  2001         11969.0            227.0"
      ]
     },
     "execution_count": 2,
     "metadata": {},
     "output_type": "execute_result"
    }
   ],
   "source": [
    "data = pd.read_csv('wolf_and_elk_in_yellowstone.csv', thousands=',').drop('Notes', axis=1).dropna().reset_index(drop=True)\n",
    "data.head()"
   ]
  },
  {
   "cell_type": "markdown",
   "metadata": {},
   "source": [
    "##### regression demo that shows what happens as you include more points in making your prediction"
   ]
  },
  {
   "cell_type": "code",
   "execution_count": 3,
   "metadata": {
    "collapsed": true
   },
   "outputs": [],
   "source": [
    "def regressiont(included_points=16):\n",
    "    \n",
    "    ignore = 16 - included_points  #indexes to ignore\n",
    "    \n",
    "    #prediction values\n",
    "    yp = data['Wolf Population'][ignore:]\n",
    "    tp = data['Year'][ignore:]\n",
    "    \n",
    "    #values\n",
    "    y = data['Wolf Population']\n",
    "    t = data['Year']\n",
    "    \n",
    "    #loss function\n",
    "    def res(pars):\n",
    "        a, b = pars\n",
    "        yp_hat = a + b * tp\n",
    "        res = yp - yp_hat\n",
    "        return sum(res**2)\n",
    "    \n",
    "    #optimal paramters\n",
    "    a, b = minimize(res, (-6.06621468e+04,   3.04230758e+01)).x\n",
    "    \n",
    "    #parameters for constant\n",
    "    if included_points == 1:\n",
    "        a, b = 480, 0\n",
    "    \n",
    "    y_hat = a + b * t  #precited values\n",
    "    fitline = [y_hat.iloc[0], y_hat.iloc[-1]]  #fit line end points\n",
    "    fittime = [t.iloc[0], t.iloc[-1]]  #fit line time values\n",
    "    \n",
    "    \n",
    "    y_prime = a + b * 2013  #predicted point\n",
    "    \n",
    "    \n",
    "    ax1 = plt.scatter(t, y, c='b')  #points\n",
    "    ax2 = plt.plot(fittime, fitline, 'r--')  #fitline\n",
    "    ax3 = plt.plot(tp, yp, 'rs')  #points used to predict\n",
    "    ax4 = plt.scatter(t.iloc[-1] +1, y_prime, c='g', marker='^')  #predicted point\n",
    "    \n",
    "    #graph labels\n",
    "    plt.xticks(t.append(pd.Series([2013]))[::2])\n",
    "    plt.xlabel('Year')\n",
    "    plt.ylabel('Wolf Popultion')\n",
    "    \n",
    "    #display graph and predicted value\n",
    "    plt.show()\n",
    "    print('Predicted 2013 wolf population:', round(y_prime))"
   ]
  },
  {
   "cell_type": "code",
   "execution_count": 5,
   "metadata": {
    "collapsed": false,
    "scrolled": true
   },
   "outputs": [
    {
     "data": {
      "image/png": "[encoded data removed]",
      "text/plain": [
       "<matplotlib.figure.Figure at 0x1146acb70>"
      ]
     },
     "metadata": {},
     "output_type": "display_data"
    },
    {
     "name": "stdout",
     "output_type": "stream",
     "text": [
      "Predicted 2013 wolf population: 544.0\n"
     ]
    }
   ],
   "source": [
    "p_slider = widgets.IntSlider(min=1, max=16, step=1, value=1)\n",
    "w=widgets.interactive(regressiont,included_points=p_slider)\n",
    "display(w)"
   ]
  },
  {
   "cell_type": "markdown",
   "metadata": {},
   "source": [
    "The visualation shows the changes in a linear model with no transformations on wolf population over time. The slider chooses how many observtions to include in the model. The blue dots are observations, red squared are observations included in model. red dashed line is fit line, and the green triangle is the predected population from the model for the next year.\n",
    "\n",
    "I opted to use time instead of elk population because it made the visualization more intuitive with similar results. I also chose to include confidence bands because they also did not add to the narrative. These are options that could be included.\n",
    "\n",
    "So far I have not found the actual 2013, the predicted year, wolf population to compare the different model memories to but this could be a useful addition"
   ]
  },
  {
   "cell_type": "markdown",
   "metadata": {},
   "source": [
    "##### Making a graph that shows the points selected for kNN"
   ]
  },
  {
   "cell_type": "code",
   "execution_count": 6,
   "metadata": {
    "collapsed": false
   },
   "outputs": [],
   "source": [
    "def knn(neighbors=1):\n",
    "    model = KNeighborsRegressor(neighbors)\n",
    "\n",
    "    X = np.array([[-1, -1.5], [-2, -1.5], [-3, -2], [1, 1], [2, 1], [3, 3]])\n",
    "    random_y_values = np.array([2,3,4,5,4,1])\n",
    "\n",
    "    to_predict = [0,0]\n",
    "    \n",
    "    model.fit(X, random_y_values)\n",
    "    dist, ind = model.kneighbors(to_predict)\n",
    "\n",
    "    fig, axes = plt.subplots(nrows=1, ncols=2, figsize=(15,7))\n",
    "\n",
    "    circle = plt.Circle(to_predict, max(dist[0]), color='g', alpha=.2)\n",
    "    axes[0].add_artist(circle)\n",
    "\n",
    "    axes[0].plot(to_predict[0], to_predict[1],'x', color='g', mew=3)\n",
    "\n",
    "    axes[0].scatter(X[:,0], X[:,1], color='black')\n",
    "\n",
    "\n",
    "    closest_points = X[ind[0]]\n",
    "    \n",
    "    axes[0].set_title('Distances')\n",
    "    x_coords = closest_points.transpose()[0]\n",
    "    y_coords = closest_points.transpose()[1]\n",
    "    axes[0].scatter(x_coords, y_coords, color='r')\n",
    "    \n",
    "    for i in range(len(random_y_values)):\n",
    "        position = X[i]\n",
    "        axes[0].text(position[0]-.05, position[1]+.07, str(random_y_values[i]))\n",
    "    \n",
    "    \n",
    "    num_points = len(ind[0])\n",
    "    axes[1].set_xlim([0,7])\n",
    "    axes[1].set_ylim([0,6])\n",
    "\n",
    "    \n",
    "    \n",
    "    values = []\n",
    "    for i in range(num_points):\n",
    "        value = random_y_values[ind[0][i]]\n",
    "        axes[1].vlines(x=i+1, ymin=0, ymax=value,\n",
    "                       color='r', linewidths=15)\n",
    "        values.append(value)\n",
    "    axes[1].hlines(y=np.mean(values), xmin=0, xmax=12,\n",
    "                  linestyles='dashed', linewidths=2, color='g')\n",
    "\n",
    "    axes[1].set_title('Values of k closest')\n",
    "    axes[1].set_xlabel('k')\n",
    "    axes[1].set_ylabel('Value')\n",
    "    plt.show()\n",
    "    print('Predicted Value: ', np.mean(values))"
   ]
  },
  {
   "cell_type": "code",
   "execution_count": 7,
   "metadata": {
    "collapsed": false
   },
   "outputs": [
    {
     "data": {
      "image/png": "[encoded data removed]",
      "text/plain": [
       "<matplotlib.figure.Figure at 0x1191d7438>"
      ]
     },
     "metadata": {},
     "output_type": "display_data"
    },
    {
     "name": "stdout",
     "output_type": "stream",
     "text": [
      "Predicted Value:  3.66666666667\n"
     ]
    }
   ],
   "source": [
    "slider = widgets.IntSlider(min=1,max=6,step=1,value=1)\n",
    "display(widgets.interactive(knn, neighbors=slider))"
   ]
  }
 ],
 "metadata": {
  "anaconda-cloud": {},
  "kernelspec": {
   "display_name": "Python [Root]",
   "language": "python",
   "name": "Python [Root]"
  },
  "language_info": {
   "codemirror_mode": {
    "name": "ipython",
    "version": 3
   },
   "file_extension": ".py",
   "mimetype": "text/x-python",
   "name": "python",
   "nbconvert_exporter": "python",
   "pygments_lexer": "ipython3",
   "version": "3.5.2"
  }
 },
 "nbformat": 4,
 "nbformat_minor": 0
}
