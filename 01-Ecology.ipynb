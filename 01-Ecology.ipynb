{
 "cells": [
  {
   "cell_type": "markdown",
   "metadata": {},
   "source": [
    "# Ecology\n",
    "### Michelle Wilkerson"
   ]
  },
  {
   "cell_type": "markdown",
   "metadata": {},
   "source": [
    "<font color='blue'>Problem 1:</font> Below you have several photos of a fennec fox, which is native to northern Africa and the Sahara Desert. The fennec fox has developed a number of unique features to live in this harsh environment. What physiological adaptations would you predict to assist with life in the Sahara Desert, and why?"
   ]
  },
  {
   "cell_type": "markdown",
   "metadata": {},
   "source": [
    "<table style=\"border-style: hidden; border-collapse: collapse;\"><tr><td><img src='images/fennec.png'></td><td><img src='images/fennec2.png'></td></tr></table>"
   ]
  },
  {
   "cell_type": "markdown",
   "metadata": {},
   "source": [
    "The Sahara is located in a climatic divide. The Intercontinental Convergence Zone moves up from the south, but stops before the center of the Sahara, and consequently hardly carries any rain. Similarly, the winter rainfall of North Africa does not reach far south enough to regularly bring rain to the central Sahara. Consequently, the rainfall, albeit extremely rare, can fall in any season (Le Houérou 1990, 1991). The annual rainfall is below 25 mm, and in the eastern part of the desert it is less than 5 mm per annum. The scarcity of rainfall in this ecoregion is aggravated by its irregularity, as no rain may fall for many years in some areas, followed by a single intense thunderstorm (Ozenda 1983).\n",
    "\n",
    "The Sahara is one of the hottest regions in the world, with mean annual temperatures exceeding 30°C. In the hottest months, temperatures can rise over 50°C, and temperatures can fall below freezing in the winter. A single daily variation of -0.5°C to 37.5°C has been recorded. The Sahara is also extremely windy. Hot, dust-filled winds create dust devils which can make the temperatures seem even hotter.\n",
    "\n",
    "Despite living in a hot environment, fennec foxes have very thick fur which is long, soft, and sandy-colored.\n",
    "Fennec foxes have the largest ears in proportion to their body size of any canine.\n",
    "\n",
    "A fennec’s diet in the wild is comprised of 90% animals/insects. They scavenge for the other 10%, and it’s mostly in roots that they find and dig up. Their diets usually consist of mostly protein from other animals and insects, with only an occasional bite of root or plant material. They actually get their leafy nutrition from eating the animals that thrive on what little is in the desert in the form of plant food. Specifically, in the wild fennecs eat beetles and other insects, lizards and other reptiles, rodents, birds and bird eggs, and other small mammals, with only some fruit and plant matter."
   ]
  },
  {
   "cell_type": "markdown",
   "metadata": {},
   "source": [
    "<center>Arctic Fox Standard Characteristics</center>\n",
    "![fox](images/fox_diagram.png)\n",
    "![fox](images/worldly_foxes.png)"
   ]
  },
  {
   "cell_type": "markdown",
   "metadata": {},
   "source": [
    "<font color='blue'>Problem 2:</font> In 1995, grey wolves were reintroduced to Yellowstone National Park after nearly 70 years of absence.  In the decades since there have been a cascade of changes within the park ecosystem, culminating in the rivers gradually changing their course to form a more meandering pathway.  How can this be explained by the reintroduction of a single species?"
   ]
  },
  {
   "cell_type": "markdown",
   "metadata": {},
   "source": [
    "![fox](images/wolf_pack.png)\n",
    "<table style=\"border-style: hidden; border-collapse: collapse;\"><tr><td><img src=\"images/land_change.png\" alt=\"land_change\" style=\"width: 450px;\"/></td><td><img src=\"images/land_change2.png\" alt=\"land_change2\" style=\"width: 600px;\"/></td></tr></table>\n",
    "![fox](images/population_timeseries.png)"
   ]
  },
  {
   "cell_type": "markdown",
   "metadata": {},
   "source": [
    "\n",
    "Wolves prey primarily on hoofed animals. In Yellowstone, 90% of winter diet is elk; summer prey consist of more deer and smaller mammals.\n",
    "\n",
    "\n",
    "In 2014, wolf predation was monitored for one month in early winter (mid-November to mid-December), one month in late winter (March), and two months in spring (May and June). Project staff detected 227 kills that were definitely, probably, or possibly made by wolves during 2014, including 148 elk (65%), 20 bison (9%), 13 mule deer (5%), 10 deer of unknown species (4%, probably mule deer), five coyotes (2%), three moose (1%), three wolves (1%), one badger (<1%), one beaver (<1%), one bighorn sheep (<1%), one goose (<1%), one raven (<1%), one pronghorn (<1%), and 19 unidentified animals (8%). The composition of elk kills was 30% calves, 2% yearlings, 33% adult females (cows), 22% adult males (bulls), 10% adults of unknown sex, and 3% of unknown sex and age. Wolves still preferred elk, but predation on bison and mule deer appear to be increasing (Figure 3)."
   ]
  },
  {
   "cell_type": "markdown",
   "metadata": {},
   "source": [
    "<table style=\"border-style: hidden; border-collapse: collapse;\"><tr><td><img src='images/wolf_pop.png'></td><td><img src='images/before_and_after.png'></td></tr></table>"
   ]
  }
 ],
 "metadata": {
  "anaconda-cloud": {},
  "kernelspec": {
   "display_name": "Python [Root]",
   "language": "python",
   "name": "Python [Root]"
  },
  "language_info": {
   "codemirror_mode": {
    "name": "ipython",
    "version": 3
   },
   "file_extension": ".py",
   "mimetype": "text/x-python",
   "name": "python",
   "nbconvert_exporter": "python",
   "pygments_lexer": "ipython3",
   "version": "3.5.2"
  }
 },
 "nbformat": 4,
 "nbformat_minor": 0
}
